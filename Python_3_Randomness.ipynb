{
  "nbformat": 4,
  "nbformat_minor": 0,
  "metadata": {
    "colab": {
      "provenance": [],
      "include_colab_link": true
    },
    "kernelspec": {
      "name": "python3",
      "display_name": "Python 3"
    }
  },
  "cells": [
    {
      "cell_type": "markdown",
      "metadata": {
        "id": "view-in-github",
        "colab_type": "text"
      },
      "source": [
        "<a href=\"https://colab.research.google.com/github/YSHS-APCSP-2022/python-1-hsanders22/blob/main/Python_3_Randomness.ipynb\" target=\"_parent\"><img src=\"https://colab.research.google.com/assets/colab-badge.svg\" alt=\"Open In Colab\"/></a>"
      ]
    },
    {
      "cell_type": "markdown",
      "metadata": {
        "id": "AJZX0MjdY2Op"
      },
      "source": [
        "# Randomness\n",
        "Sometimes it is useful to incorporate a bit of randomness into your code. From spawning enemies, to guessing games, to randomly selecting the order, randomness is essential to a lot of code. \n",
        "\n",
        "To keep python sleek only certain functions, like print(), are loaded with base python. Other functions, like the random functions, need to be loaded into the python environment. Collections of functions are called libraries and to access them you need to import the library in a code cell. This is usually done at the top of your code.\n",
        "``` python\n",
        "import random\n",
        "```\n",
        "This imports the library random that has several random functions that we will use. Below are two examples of the random function run the cells below and see what the \n",
        "```python\n",
        "random.randint()\n",
        "```\n",
        "and the random.choice()  do\n",
        "```python\n",
        "random.choice()\n",
        "```"
      ]
    },
    {
      "cell_type": "code",
      "metadata": {
        "id": "jEDVby0OSxkK",
        "colab": {
          "base_uri": "https://localhost:8080/"
        },
        "outputId": "f5918a89-f361-4da9-ed0a-9e6cf2ea1d7a"
      },
      "source": [
        "import random\n",
        "#randint stands for random integer\n",
        "print(random.randint(0,100))"
      ],
      "execution_count": 29,
      "outputs": [
        {
          "output_type": "stream",
          "name": "stdout",
          "text": [
            "69\n"
          ]
        }
      ]
    },
    {
      "cell_type": "code",
      "metadata": {
        "id": "Yu_KJAkeS9_K",
        "colab": {
          "base_uri": "https://localhost:8080/",
          "height": 35
        },
        "outputId": "d0f6f534-cf6b-4552-e189-edb8063bad10"
      },
      "source": [
        "import random\n",
        "#note that you need 2 parentheses, the first one is to group the candy bars and the second one is to run the random.choice around it\n",
        "random.choice((\"Snickers\",\"Twix\",\"Nerds\",\"Kit Kats\"))\n"
      ],
      "execution_count": 6,
      "outputs": [
        {
          "output_type": "execute_result",
          "data": {
            "text/plain": [
              "'Snickers'"
            ],
            "application/vnd.google.colaboratory.intrinsic+json": {
              "type": "string"
            }
          },
          "metadata": {},
          "execution_count": 6
        }
      ]
    },
    {
      "cell_type": "markdown",
      "metadata": {
        "id": "Rui7G49OTiMT"
      },
      "source": [
        "# Make a Guessing Game\n",
        "\n",
        "1. Define a function called guessing game that takes 1 input number\n",
        "2. In the function randomly pick a number from 1 to 5 (see random.randint())\n",
        "3. If the guess == the randomly picked number print you got it\n",
        "4. Else print \"you did not get the number correct, you guessed [input guess] and the random number was [input random number]"
      ]
    },
    {
      "cell_type": "markdown",
      "source": [],
      "metadata": {
        "id": "5MILzgUHRD_w"
      }
    },
    {
      "cell_type": "code",
      "metadata": {
        "id": "UiL_R6zVUQl6"
      },
      "source": [
        "from re import A\n",
        "#Insert Guessing Game Function Here\n",
        "import random\n",
        "\n",
        "\n",
        "def guess_game(guess):\n",
        "  secret=random.randint(1,5)\n",
        "  x=guess\n",
        "  if secret==guess:\n",
        "    print(\"you got it\")\n",
        "  else:\n",
        "    print(\"you did not guess right, you chose \" +str(x))\n",
        "    print(\"the number was \" +str(secret))\n",
        "  \n"
      ],
      "execution_count": 73,
      "outputs": []
    },
    {
      "cell_type": "code",
      "source": [
        "guess_game(4)"
      ],
      "metadata": {
        "id": "ZdVqeisN39xc",
        "outputId": "9ccec075-3c7a-49e9-9822-e2a392aebda4",
        "colab": {
          "base_uri": "https://localhost:8080/"
        }
      },
      "execution_count": 75,
      "outputs": [
        {
          "output_type": "stream",
          "name": "stdout",
          "text": [
            "you did not guess right, you chose 4\n",
            "the number was 1\n"
          ]
        }
      ]
    },
    {
      "cell_type": "markdown",
      "metadata": {
        "id": "oQHBqn_HURfy"
      },
      "source": [
        "# Guessing Game 2.0\n",
        "1. Define a function called guessing game that takes 1 input number\n",
        "2. In the function randomly pick a number from 1 to 5 (see random.randint())\n",
        "3. If the guess == the randomly picked number print you got it\n",
        "4. If the guess > the randomly picked number print \"Your guess is too high\"\n",
        "5. If the guess < the randomly picked number print \"Your guess is too low\" \n",
        "\n",
        "*when you have stacked if statements that are checked one after the other the next if should be an elif (which stands for elseif) see the code below for an example *\n",
        "\n",
        "```python\n",
        "pet = 'dog'\n",
        "if pet == 'cat':\n",
        "  print(\"you have a cat\")\n",
        "elif pet == 'dog':\n",
        "  print(\"you have a dog\")\n",
        "elif pet == 'bird':\n",
        "  print(\"you have a bird\")\n",
        "else:\n",
        "  print(\"You have a \" + pet)\n",
        "```\n"
      ]
    },
    {
      "cell_type": "code",
      "metadata": {
        "id": "B4uXynQpYwZS"
      },
      "source": [
        "#Insert Guessing Game 2.0 Function Here"
      ],
      "execution_count": null,
      "outputs": []
    },
    {
      "cell_type": "code",
      "source": [
        "def guessing_game(guess):\n",
        "  x=guess\n",
        "  secret=random.randint(1,5)\n",
        "  if secret==guess:\n",
        "    print(\"you got it\")\n",
        "  elif secret>guess:\n",
        "    print(\"your guess was too low\")\n",
        "  elif secret<guess:\n",
        "    print(\"your guess was too high\")  "
      ],
      "metadata": {
        "id": "uwoD_UBW5ygG"
      },
      "execution_count": 85,
      "outputs": []
    },
    {
      "cell_type": "code",
      "source": [
        "guessing_game(3)"
      ],
      "metadata": {
        "id": "ag9Omelx6x9O",
        "outputId": "086bd817-0ce0-4e05-9afd-d850288da32e",
        "colab": {
          "base_uri": "https://localhost:8080/"
        }
      },
      "execution_count": 89,
      "outputs": [
        {
          "output_type": "stream",
          "name": "stdout",
          "text": [
            "your guess was too high\n"
          ]
        }
      ]
    }
  ]
}