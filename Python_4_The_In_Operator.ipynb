{
  "nbformat": 4,
  "nbformat_minor": 0,
  "metadata": {
    "colab": {
      "provenance": [],
      "include_colab_link": true
    },
    "kernelspec": {
      "name": "python3",
      "display_name": "Python 3"
    }
  },
  "cells": [
    {
      "cell_type": "markdown",
      "metadata": {
        "id": "view-in-github",
        "colab_type": "text"
      },
      "source": [
        "<a href=\"https://colab.research.google.com/github/YSHS-APCSP-2022/python-1-hsanders22/blob/main/Python_4_The_In_Operator.ipynb\" target=\"_parent\"><img src=\"https://colab.research.google.com/assets/colab-badge.svg\" alt=\"Open In Colab\"/></a>"
      ]
    },
    {
      "cell_type": "markdown",
      "metadata": {
        "id": "AJZX0MjdY2Op"
      },
      "source": [
        "# Automatic Grade Reporting Software: Do\n",
        "\n",
        "Make the following function in the code cell below.\n",
        "\n",
        "1. Define a function called Academic_Monitoring that takes 1 input, grade\n",
        "2. If the grade inputted is at or above 80 the output should be \"A grade of [grade] indicates mastery, \n",
        "3. If the grade inputted is less than 80 the output should be \"A grade of [grade] does not indicate mastery. Please seek additional help.\n",
        "\n"
      ]
    },
    {
      "cell_type": "code",
      "metadata": {
        "id": "UiL_R6zVUQl6"
      },
      "source": [
        "#Insert Automatic Grade Reporting Software Function Here"
      ],
      "execution_count": null,
      "outputs": []
    },
    {
      "cell_type": "markdown",
      "metadata": {
        "id": "oQHBqn_HURfy"
      },
      "source": [
        "# The in operator: Read\n",
        "\n",
        "The in operator can also be used to create a Boolean expression, like ==. The in operator will return True or False. You can use it to see if an element is in an word, or a list.\n",
        "\n",
        "Examine the following examples using the in operator:\n",
        "\n",
        "```python\n",
        "In []:'t' in 'string' # includes lowercase t character\n",
        "Out[]: True\n",
        "In []:'T' in 'string' # case matters\n",
        "Out[]: False\n",
        "In []: 3 in [1,2,3] # this list contains the int 3\n",
        "Out[]: True\n",
        "In []:'3' in [1,2,3] # '3' is a string, different than 3\n",
        "Out[]: False\n",
        "```\n",
        "\n",
        "The following function  vowel(letter) returns True if the letter is 'a',  'e',  'i',  'o',  'u', or any of their uppercase counterparts and returns False otherwise."
      ]
    },
    {
      "cell_type": "code",
      "source": [
        "'t' in 'strong'"
      ],
      "metadata": {
        "colab": {
          "base_uri": "https://localhost:8080/"
        },
        "id": "R8W83lmn0_KO",
        "outputId": "c5b4532f-3bd3-4ab5-9a07-7ef830621443"
      },
      "execution_count": 3,
      "outputs": [
        {
          "output_type": "execute_result",
          "data": {
            "text/plain": [
              "True"
            ]
          },
          "metadata": {},
          "execution_count": 3
        }
      ]
    },
    {
      "cell_type": "code",
      "metadata": {
        "id": "B4uXynQpYwZS",
        "colab": {
          "base_uri": "https://localhost:8080/",
          "height": 34
        },
        "outputId": "6fb8bfd6-557a-4c3e-d8da-cd5e0bd3a0ce"
      },
      "source": [
        "# Sample function to demonstrate the purpose of the in operator\n",
        "\n",
        "def vowel(letter):\n",
        "    vowels = 'aeiouAEIOU'\n",
        "    if letter in vowels:\n",
        "        return True\n",
        "    else:\n",
        "        return False\n",
        "\n",
        "vowel('a')"
      ],
      "execution_count": null,
      "outputs": [
        {
          "output_type": "execute_result",
          "data": {
            "text/plain": [
              "True"
            ]
          },
          "metadata": {
            "tags": []
          },
          "execution_count": 1
        }
      ]
    },
    {
      "cell_type": "markdown",
      "metadata": {
        "id": "tr2-CX2T7lPN"
      },
      "source": [
        "#Letter in Word Function: Do\n",
        "\n",
        "Make the following function in the code cell below.\n",
        "\n",
        "1. Define a function called LetterInWord() that takes 2 inputs, letter and word\n",
        "2. Using the in operator check to see if the letter is in the word\n",
        "3. If the letter is in the word print the letter [letter] is in the word [word] \n",
        "4. If the letter is not in the word print the letter [letter] is not in the word [word]"
      ]
    },
    {
      "cell_type": "code",
      "metadata": {
        "id": "njJKuOFi7cpi"
      },
      "source": [
        "def Letterinword(word,letter):\n",
        "  '''A function that checks to see if a letter is in a word (input as word,letter)'''\n",
        "  if letter in word:\n",
        "    print(\"the letter\" +letter+ \"is in the word\" +word)\n",
        "  else:\n",
        "    print(\"the letter \" +letter+ \" is in the word \" +word)"
      ],
      "execution_count": 26,
      "outputs": []
    },
    {
      "cell_type": "code",
      "source": [
        "Letterinword(\"four\", \"f\")"
      ],
      "metadata": {
        "colab": {
          "base_uri": "https://localhost:8080/"
        },
        "id": "6ficFLoT181a",
        "outputId": "6b02667d-b879-4923-f13f-064aaad0b784"
      },
      "execution_count": 27,
      "outputs": [
        {
          "output_type": "stream",
          "name": "stdout",
          "text": [
            "the letterfis in the wordfour\n"
          ]
        }
      ]
    },
    {
      "cell_type": "markdown",
      "metadata": {
        "id": "luSYxo7E8T7z"
      },
      "source": [
        "## Conclusion (write your answer in this text box below the cell)\n",
        "Steve and Latisha wrote this code: \n",
        "```python\n",
        "if check == 2:   #line 21\n",
        "    print('Code complete.') #line 22\n",
        "else: #line 23\n",
        "    print('Code complete.') #line 24\n",
        "    print('Not all systems are ready') #line 25\n",
        "```\n",
        "Ira, Jayla, and Kendra are all saying it would be better to move lines 22 and 24 to a single line executing print ('Code complete.') just before line 21. These three students have different reasons for their opinions. Their reasons are below. Do you think each of them is right, wrong, or somewhere in between? Explain.\n",
        "\n",
        "Ira: “It would be better to have a single print statement because that code is going to happen no matter what. The program will run slower by having it there twice.”\n",
        "\n",
        "Jayla: “It would be better to have a single print statement because that code is going to happen no matter what. Later, if you want to change your program, you’re going to have to remember to change it in two places the way the code is now.”\n",
        "\n",
        "Kendra: “It would be better to have a single print statement because it is going to happen no matter what. That program would take up less memory if you just wrote it once.”\n"
      ]
    },
    {
      "cell_type": "markdown",
      "source": [],
      "metadata": {
        "id": "CxD5RoHkkCK5"
      }
    }
  ]
}