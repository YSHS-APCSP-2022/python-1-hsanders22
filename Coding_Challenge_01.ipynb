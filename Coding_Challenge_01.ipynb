{
  "nbformat": 4,
  "nbformat_minor": 0,
  "metadata": {
    "colab": {
      "provenance": [],
      "include_colab_link": true
    },
    "kernelspec": {
      "name": "python3",
      "display_name": "Python 3"
    },
    "language_info": {
      "name": "python"
    }
  },
  "cells": [
    {
      "cell_type": "markdown",
      "metadata": {
        "id": "view-in-github",
        "colab_type": "text"
      },
      "source": [
        "<a href=\"https://colab.research.google.com/github/YSHS-APCSP-2022/python-1-hsanders22/blob/main/Coding_Challenge_01.ipynb\" target=\"_parent\"><img src=\"https://colab.research.google.com/assets/colab-badge.svg\" alt=\"Open In Colab\"/></a>"
      ]
    },
    {
      "cell_type": "markdown",
      "source": [
        "#Coding Challenge Week 1\n",
        "\n",
        "These are optional coding challenges for you to extend your current skill level. While these are optional these are highly encouraged for you to participate in when you are able to. Most of the challenges can be solved with logic that we have covered in class, but you may need to do some research to find things out on your own."
      ],
      "metadata": {
        "id": "S5eJU59ncuH5"
      }
    },
    {
      "cell_type": "markdown",
      "source": [
        "##Problem 1: Detector Detective \n",
        "Dr. Cooper's particle detector is broken and he needs your help writing a simulator to find the issue. Model the detector plate as a rectangle in 2D space defined by two pairs of (X,Y) coordinates representing opposite corners. Given a list of impact points, determine which particles should register on the detector.\n",
        "\n",
        "The first line contains four integers X1 Y1 X2 Y2 indicating the corners of the detector plate. Make the function ask the user to input coordinates of a particle.Print \"Hit\" or \"Miss\" to indicate which points fall within the boundary.\n",
        "\n",
        "```python\n",
        "#Sample Input\n",
        "simulator(x1=0,y1=0,x2=10, y2=10)\n",
        "#inputs\n",
        "1,1\n",
        "11,11\n",
        "-1, 5\n",
        "5 ,7\n",
        "10 ,10\n",
        "10, 5\n",
        "12, 3\n",
        "5 ,14\n",
        "\n",
        "#Sample Outputs\n",
        "Hit\n",
        "Miss\n",
        "Miss\n",
        "Hit\n",
        "Hit\n",
        "Hit\n",
        "Miss\n",
        "Miss\n",
        "```"
      ],
      "metadata": {
        "id": "50KKZ8Ju6kZd"
      }
    },
    {
      "cell_type": "code",
      "source": [],
      "metadata": {
        "id": "jpJ8GMGM9lpK"
      },
      "execution_count": null,
      "outputs": []
    },
    {
      "cell_type": "markdown",
      "source": [
        "##Problem 2: Pythagorean Triple\n",
        "A Pythagorean triple is a set of positive integers such that \n",
        "\n",
        "A<sup>2</sup>+B<sup>2</sup>=C<sup>2</sup> \n",
        "\n",
        "C represents the length of the hypotenuse of a right triangle, while a and b are the lengths of the other legs. Prompt the user for a, b, and c (you may assume they enter the largest value in c), and then tell them whether those numbers form a Pythagorean triple.\n",
        "\n",
        "\n",
        "```python \n",
        "#Test Case 1\n",
        "pythagoreanTriple(3,4,5)\n",
        "\"3,4,5 are a pythagorean triple\"\n",
        "\n",
        "#Test Case 2\n",
        "pythagoreanTriple(3,4,10)\n",
        "\"3,4,10 are not a pythagorean triple\"\n",
        "```\n",
        "\n",
        "\n"
      ],
      "metadata": {
        "id": "3ytwYKaZdGiD"
      }
    },
    {
      "cell_type": "code",
      "source": [],
      "metadata": {
        "id": "A-TCtjEm6jkR"
      },
      "execution_count": null,
      "outputs": []
    },
    {
      "cell_type": "markdown",
      "source": [
        "#Problem 3: Popular letter. \n",
        "Ask the user to enter two unique, individual letters in lowercase followed by a word in lowercase. Then output the letter that occurs more often in the word. If the letters occur equally often (including 0 times), output both of them.\n",
        "\n",
        "```python\n",
        "popularLetter(\"a\",\"o\",\"bazooka\")\n",
        "#output\n",
        "\"a,o\"\n",
        "\n",
        "popularLetter(\"a\",\"z\",\"bazooka\")\n",
        "#output\n",
        "\"a\"\n",
        "```\n"
      ],
      "metadata": {
        "id": "9Asz_XlE9rYI"
      }
    },
    {
      "cell_type": "code",
      "source": [],
      "metadata": {
        "id": "hptLWuEE-ND9"
      },
      "execution_count": null,
      "outputs": []
    }
  ]
}