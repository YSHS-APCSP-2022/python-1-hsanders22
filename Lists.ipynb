{
  "nbformat": 4,
  "nbformat_minor": 0,
  "metadata": {
    "colab": {
      "provenance": [],
      "include_colab_link": true
    },
    "kernelspec": {
      "name": "python3",
      "display_name": "Python 3"
    },
    "language_info": {
      "name": "python"
    }
  },
  "cells": [
    {
      "cell_type": "markdown",
      "metadata": {
        "id": "view-in-github",
        "colab_type": "text"
      },
      "source": [
        "<a href=\"https://colab.research.google.com/github/YSHS-APCSP-2022/python-1-hsanders22/blob/main/Lists.ipynb\" target=\"_parent\"><img src=\"https://colab.research.google.com/assets/colab-badge.svg\" alt=\"Open In Colab\"/></a>"
      ]
    },
    {
      "cell_type": "markdown",
      "source": [
        "#Lists\n",
        "Lists are data structures in python meant to store a collection of information. Within a list you could have strings, integers, Booleans (True or False), a mixture of data types and even lists within lists!\n",
        "\n",
        "Lists can be used to create data abstraction. Data abstraction simplifies a set of data by representing it in some general way. You can then work with that representation instead of each piece of data itself.\n",
        "\n",
        "This Colab Notebook has a lot of examples embedded in it. Please take the time to go through it, digest the information, play with the examples, and ask questions!"
      ],
      "metadata": {
        "id": "OTQw4hqPubLj"
      }
    },
    {
      "cell_type": "markdown",
      "source": [
        "##Anatomy of a list\n",
        "Lists start and end with a bracket.The code below creates an empty list named sampleList.\n",
        "\n",
        "```python\n",
        "sampleList = []\n",
        "```\n",
        "\n",
        "Lists index starting at 0.\n",
        "\n",
        "```python\n",
        "days = [\"Monday\",\"Tuesday\",\"Wednesday\",\"Thursday\", \"Friday\",\"Saturday\", \"Sunday\"]\n",
        "\n",
        "print(day[1])\n",
        "\n",
        "#output\n",
        "\"Tuesday\"\n",
        "```\n"
      ],
      "metadata": {
        "id": "wKL9bR5wyyjn"
      }
    },
    {
      "cell_type": "markdown",
      "source": [
        "#You Try It\n",
        "Run the code block below to save the list to memory and then follow the prompts in the code blocks below."
      ],
      "metadata": {
        "id": "AiuvQobIvM1W"
      }
    },
    {
      "cell_type": "code",
      "source": [
        "#List of Strings\n",
        "days = [\"Monday\",\"Tuesday\",\"Wednesday\",\"Thursday\", \"Friday\",\"Saturday\", \"Sunday\"]"
      ],
      "metadata": {
        "id": "tLVxlHU-vKdE"
      },
      "execution_count": 1,
      "outputs": []
    },
    {
      "cell_type": "code",
      "source": [
        "#Output \"Today is [Correct day of week]\" by indexing to the correct day of the week\n",
        "print('today is '+days[1])"
      ],
      "metadata": {
        "id": "iUBCe-SP0Mg6",
        "outputId": "e2cdd5dc-5f2c-44ab-a5d5-783ccb4abda4",
        "colab": {
          "base_uri": "https://localhost:8080/"
        }
      },
      "execution_count": 3,
      "outputs": [
        {
          "output_type": "stream",
          "name": "stdout",
          "text": [
            "today is Tuesday\n"
          ]
        }
      ]
    },
    {
      "cell_type": "code",
      "source": [
        "#Index to Sunday\n",
        "days[6]"
      ],
      "metadata": {
        "id": "EA33cJSs0VaW",
        "outputId": "972b0993-a5c6-4ab5-aef2-83ba703f50d8",
        "colab": {
          "base_uri": "https://localhost:8080/",
          "height": 35
        }
      },
      "execution_count": 4,
      "outputs": [
        {
          "output_type": "execute_result",
          "data": {
            "text/plain": [
              "'Sunday'"
            ],
            "application/vnd.google.colaboratory.intrinsic+json": {
              "type": "string"
            }
          },
          "metadata": {},
          "execution_count": 4
        }
      ]
    },
    {
      "cell_type": "code",
      "source": [
        "#Think about what this code segment does below\n",
        "#This code first indexes to \"Thursday\" and then slices the string to just the day\n",
        "days[3][5:8]"
      ],
      "metadata": {
        "colab": {
          "base_uri": "https://localhost:8080/",
          "height": 35
        },
        "id": "Tmd0d4-S0djp",
        "outputId": "fb51230f-0d9b-4aec-e7c0-c9bb363f52c7"
      },
      "execution_count": 6,
      "outputs": [
        {
          "output_type": "execute_result",
          "data": {
            "text/plain": [
              "'day'"
            ],
            "application/vnd.google.colaboratory.intrinsic+json": {
              "type": "string"
            }
          },
          "metadata": {},
          "execution_count": 6
        }
      ]
    },
    {
      "cell_type": "code",
      "source": [
        "#Please index to Friday and then slice the string to print out \"rid\"\n",
        "days[4][1:4]"
      ],
      "metadata": {
        "id": "E4zwXpEb03zG",
        "outputId": "1c54726e-406e-4de4-f0b5-d83d7edd5a67",
        "colab": {
          "base_uri": "https://localhost:8080/",
          "height": 35
        }
      },
      "execution_count": 9,
      "outputs": [
        {
          "output_type": "execute_result",
          "data": {
            "text/plain": [
              "'rid'"
            ],
            "application/vnd.google.colaboratory.intrinsic+json": {
              "type": "string"
            }
          },
          "metadata": {},
          "execution_count": 9
        }
      ]
    },
    {
      "cell_type": "markdown",
      "source": [
        "#Other Examples of Lists"
      ],
      "metadata": {
        "id": "RS3Kmuq71z1f"
      }
    },
    {
      "cell_type": "code",
      "execution_count": 48,
      "metadata": {
        "id": "78jJndZdpKwr"
      },
      "outputs": [],
      "source": [
        "# empty list with square brackets\n",
        "empty_list = []\n",
        "# empty list with square brackets\n",
        "empty_list = list()\n",
        "\n",
        "# list of integers\n",
        "integer_list = [1, 2, 3]\n",
        "\n",
        "# list with mixed data types\n",
        "mixed_list = [8, \"Hi\", 3.3]\n",
        "\n",
        "# a nested list\n",
        "nested_list = [\"cat\", [3, 2], ['d']]"
      ]
    },
    {
      "cell_type": "markdown",
      "source": [
        "##listName.append()"
      ],
      "metadata": {
        "id": "mMtGW10a3GpR"
      }
    },
    {
      "cell_type": "code",
      "source": [
        "#Favorite Things List\n",
        "favoriteThings = [\"family\",\"learning\",\"cheese\"]\n",
        "print(favoriteThings)\n",
        "#listName.append() adds an item to the end of a list\n",
        "favoriteThings.append(\"Thursdays\")\n",
        "print(favoriteThings)"
      ],
      "metadata": {
        "colab": {
          "base_uri": "https://localhost:8080/"
        },
        "id": "6HBZ6xR-2rrG",
        "outputId": "037199bd-87a1-4c20-f53d-ca90e53d649e"
      },
      "execution_count": 11,
      "outputs": [
        {
          "output_type": "stream",
          "name": "stdout",
          "text": [
            "['family', 'learning', 'cheese']\n",
            "['family', 'learning', 'cheese', 'Thursdays']\n"
          ]
        }
      ]
    },
    {
      "cell_type": "markdown",
      "source": [
        "##listName.count()"
      ],
      "metadata": {
        "id": "JEjw0w-N3ONq"
      }
    },
    {
      "cell_type": "code",
      "source": [
        "#Number List\n",
        "numList = [1,41,2,3,4,1,10,9,4,1]\n",
        "#listName.count() returns the number of times a certain item appears in a list\n",
        "numList.count(1)"
      ],
      "metadata": {
        "colab": {
          "base_uri": "https://localhost:8080/"
        },
        "id": "KU-3XSBI3RT_",
        "outputId": "b090d67f-474c-474e-e75c-6a7dcad20199"
      },
      "execution_count": 47,
      "outputs": [
        {
          "output_type": "execute_result",
          "data": {
            "text/plain": [
              "3"
            ]
          },
          "metadata": {},
          "execution_count": 47
        }
      ]
    },
    {
      "cell_type": "code",
      "source": [
        "#Note that strings are really treated like a list of characters so...\n",
        "word = \"banana\"\n",
        "#Counts the number of times the character 'a' appears in the word 'banana'\n",
        "word.count(\"a\")"
      ],
      "metadata": {
        "colab": {
          "base_uri": "https://localhost:8080/"
        },
        "id": "wiVfVwRd3oBw",
        "outputId": "22d8f907-cc8d-408e-fb88-4e5ef8d5960f"
      },
      "execution_count": 17,
      "outputs": [
        {
          "output_type": "execute_result",
          "data": {
            "text/plain": [
              "3"
            ]
          },
          "metadata": {},
          "execution_count": 17
        }
      ]
    },
    {
      "cell_type": "markdown",
      "source": [
        "##listName.insert(index,item)\n"
      ],
      "metadata": {
        "id": "z_ReaDpPAXlX"
      }
    },
    {
      "cell_type": "code",
      "source": [
        "favoriteThings = [\"family\",\"learning\",\"cheese\"]\n",
        "\n",
        "#Inserts \"science\" into the index slot 1 of the list\n",
        "favoriteThings.insert(1,\"science\")\n",
        "\n",
        "print(favoriteThings)"
      ],
      "metadata": {
        "colab": {
          "base_uri": "https://localhost:8080/"
        },
        "id": "SSdRO7NPqR1w",
        "outputId": "4d377a67-954e-403f-ed57-c68564d08a76"
      },
      "execution_count": null,
      "outputs": [
        {
          "output_type": "stream",
          "name": "stdout",
          "text": [
            "['family', 'science', 'learning', 'cheese']\n"
          ]
        }
      ]
    },
    {
      "cell_type": "markdown",
      "source": [
        "##listName.remove(item to remove)\n",
        "The remove() method removes the first matching element (which is passed as an argument) from the list."
      ],
      "metadata": {
        "id": "p-iJxFVIBb_C"
      }
    },
    {
      "cell_type": "code",
      "source": [
        "# animals list\n",
        "animals = ['cat', 'dog', 'rabbit', 'guinea pig']\n",
        "\n",
        "# 'rabbit' is removed\n",
        "animals.remove(\"rabbit\")\n",
        "\n",
        "print(animals)"
      ],
      "metadata": {
        "colab": {
          "base_uri": "https://localhost:8080/"
        },
        "id": "Ut9uoxHyqf_U",
        "outputId": "dd7d3a78-4c21-4502-94cb-e51891871878"
      },
      "execution_count": null,
      "outputs": [
        {
          "output_type": "stream",
          "name": "stdout",
          "text": [
            "['cat', 'dog', 'guinea pig']\n"
          ]
        }
      ]
    },
    {
      "cell_type": "markdown",
      "source": [
        "##listName.pop(index)\n",
        "The pop()method removes the item at a certain index from the list."
      ],
      "metadata": {
        "id": "qPYhDfd3BlDI"
      }
    },
    {
      "cell_type": "code",
      "source": [
        "# animals list\n",
        "animals = ['cat', 'dog', 'rabbit', 'guinea pig']\n",
        "\n",
        "# 'rabbit' is removed\n",
        "animals.pop(2)\n",
        "\n",
        "print(animals)"
      ],
      "metadata": {
        "id": "VTZpgTgTqV3a",
        "colab": {
          "base_uri": "https://localhost:8080/"
        },
        "outputId": "f95ee9cd-43c3-440f-f448-f0080d439da0"
      },
      "execution_count": null,
      "outputs": [
        {
          "output_type": "stream",
          "name": "stdout",
          "text": [
            "['cat', 'dog', 'guinea pig']\n"
          ]
        }
      ]
    },
    {
      "cell_type": "markdown",
      "source": [
        "##listName.sort()\n"
      ],
      "metadata": {
        "id": "sC1YHSAjCAA4"
      }
    },
    {
      "cell_type": "code",
      "source": [
        "#Number List\n",
        "numList = [1,41,2,3,4,1,10,9,4,1]\n",
        "#sorts from low to high\n",
        "numList.sort()\n",
        "print(numList)"
      ],
      "metadata": {
        "id": "5RmIJAzVqrf_",
        "colab": {
          "base_uri": "https://localhost:8080/"
        },
        "outputId": "5d1dfe5a-4488-4a51-ec82-1e890720139f"
      },
      "execution_count": null,
      "outputs": [
        {
          "output_type": "stream",
          "name": "stdout",
          "text": [
            "[1, 1, 1, 2, 3, 4, 4, 9, 10, 41]\n"
          ]
        }
      ]
    },
    {
      "cell_type": "code",
      "source": [
        "numList = [1,41,2,3,4,1,10,9,4,1]\n",
        "\n",
        "#sorts from high to low\n",
        "numList.sort(reverse=True)\n",
        "print(numList)"
      ],
      "metadata": {
        "colab": {
          "base_uri": "https://localhost:8080/"
        },
        "id": "b4aPHOBTB_oh",
        "outputId": "8d217c2f-bf02-4649-bc6a-b99effebb0b9"
      },
      "execution_count": null,
      "outputs": [
        {
          "output_type": "stream",
          "name": "stdout",
          "text": [
            "[41, 10, 9, 4, 4, 3, 2, 1, 1, 1]\n"
          ]
        }
      ]
    },
    {
      "cell_type": "code",
      "source": [
        "#you can sort words as well!\n",
        "#You need to use a slightly different method sorted() which doesn't permanently change the sorting \n",
        "# of the string so you need to save the sorted() output to a variable and then output that variable.\n",
        "word = \"supercalifrajsdaklfjdncasdocious\"\n",
        "alphabetized=sorted(word)\n",
        "print(alphabetized)"
      ],
      "metadata": {
        "colab": {
          "base_uri": "https://localhost:8080/"
        },
        "id": "8oD-2o_HCp9n",
        "outputId": "d87af3b6-2c2b-4765-84a7-a225f6769578"
      },
      "execution_count": null,
      "outputs": [
        {
          "output_type": "stream",
          "name": "stdout",
          "text": [
            "['a', 'a', 'a', 'a', 'c', 'c', 'c', 'd', 'd', 'd', 'e', 'f', 'f', 'i', 'i', 'j', 'j', 'k', 'l', 'l', 'n', 'o', 'o', 'p', 'r', 'r', 's', 's', 's', 's', 'u', 'u']\n"
          ]
        }
      ]
    },
    {
      "cell_type": "markdown",
      "source": [
        "##listName.reverse()\n",
        "Reverses the ordering of items in a list."
      ],
      "metadata": {
        "id": "FulB5US-D1eM"
      }
    },
    {
      "cell_type": "code",
      "source": [
        "# animals list\n",
        "animals = ['cat', 'dog', 'rabbit', 'guinea pig']\n",
        "\n",
        "animals.reverse()\n",
        "\n",
        "print(animals)\n"
      ],
      "metadata": {
        "colab": {
          "base_uri": "https://localhost:8080/"
        },
        "id": "FPemJtW5pLN_",
        "outputId": "0bcd2bc0-9729-470e-8cab-4944ecb83d69"
      },
      "execution_count": 58,
      "outputs": [
        {
          "output_type": "stream",
          "name": "stdout",
          "text": [
            "['guinea pig', 'rabbit', 'dog', 'cat']\n"
          ]
        }
      ]
    },
    {
      "cell_type": "markdown",
      "source": [
        "##Changing (mutating) Lists another way\n",
        "Look at how the code below changes and interacts with list items."
      ],
      "metadata": {
        "id": "sSKTwe_yGWkU"
      }
    },
    {
      "cell_type": "code",
      "source": [
        "numList = [1,4,10,3,9,8]\n",
        "#takes the item at the 2nd index of the list and sets it equal to itself + 3\n",
        "numList[2]=numList[2]+3\n",
        "print(numList)"
      ],
      "metadata": {
        "colab": {
          "base_uri": "https://localhost:8080/"
        },
        "id": "HSjFXRl9GcqK",
        "outputId": "f74c5e70-17ec-4424-b5c0-a069414a28d4"
      },
      "execution_count": 3,
      "outputs": [
        {
          "output_type": "stream",
          "name": "stdout",
          "text": [
            "[1, 4, 13, 3, 9, 8]\n"
          ]
        }
      ]
    },
    {
      "cell_type": "code",
      "source": [
        "stringList = [\"Hello\",\"Salutations\",\"Hola\",\"Hallo\"]\n",
        "stringList[1]=\"Bonjour\"\n",
        "print(stringList)"
      ],
      "metadata": {
        "colab": {
          "base_uri": "https://localhost:8080/"
        },
        "id": "0On09g8UGt02",
        "outputId": "ed5744bf-bdf8-4a12-d945-50ed49ab9e1a"
      },
      "execution_count": 5,
      "outputs": [
        {
          "output_type": "stream",
          "name": "stdout",
          "text": [
            "['Hello', 'Bonjour', 'Hola', 'Hallo']\n"
          ]
        }
      ]
    },
    {
      "cell_type": "code",
      "source": [
        "import random\n",
        "randomList =[]\n",
        "a = random.randint(0,100)\n",
        "randomList += [a]\n",
        "\n",
        "print(randomList)"
      ],
      "metadata": {
        "colab": {
          "base_uri": "https://localhost:8080/"
        },
        "id": "ElMWyhR8HLn3",
        "outputId": "578468d2-2fc3-4930-cff3-b201eee5f633"
      },
      "execution_count": 10,
      "outputs": [
        {
          "output_type": "stream",
          "name": "stdout",
          "text": [
            "[18]\n"
          ]
        }
      ]
    },
    {
      "cell_type": "markdown",
      "source": [
        "#Do\n",
        "1. Make a list that contains 5 elements. \n",
        "2. These elements must include a string, integer, and a list of numbers stored in the 4th index spot of your list\n",
        "3. Remove the third item in the list.\n",
        "4. Order the list of numbers within your list from greatest to least\n",
        "5. Add another string in the 2nd index of your list\n",
        "\n"
      ],
      "metadata": {
        "id": "bMiuhV_mEuGX"
      }
    },
    {
      "cell_type": "code",
      "source": [
        "Listylist = ['feet', 17, 'morefeet', 'evenmorefeet', [48, 12, 27, 36, 49, 64]]\n",
        "Listylist.pop(2)\n",
        "Listylist.insert(2,'howmanymorefeet???')\n",
        "\n",
        "\n",
        "print(Listylist)\n"
      ],
      "metadata": {
        "id": "SmTuXLhwEYTb",
        "outputId": "e064c302-9cc0-4dae-cb1c-6c94d7a5a749",
        "colab": {
          "base_uri": "https://localhost:8080/",
          "height": 133
        }
      },
      "execution_count": 61,
      "outputs": [
        {
          "output_type": "error",
          "ename": "SyntaxError",
          "evalue": "ignored",
          "traceback": [
            "\u001b[0;36m  File \u001b[0;32m\"<ipython-input-61-d0274e008310>\"\u001b[0;36m, line \u001b[0;32m4\u001b[0m\n\u001b[0;31m    Listylist.sort[]\u001b[0m\n\u001b[0m                   ^\u001b[0m\n\u001b[0;31mSyntaxError\u001b[0m\u001b[0;31m:\u001b[0m invalid syntax\n"
          ]
        }
      ]
    },
    {
      "cell_type": "markdown",
      "source": [
        "#Lists are Powerful and this Tutorial is Incomplete\n",
        "Know that the above mentioned list actions are some of the more commonly used ones, but there are many more things that lists can do in python. If you are every wondering how to do something with a list in python ... GOOGLE IT!"
      ],
      "metadata": {
        "id": "8ZMM2oIeEYpZ"
      }
    }
  ]
}