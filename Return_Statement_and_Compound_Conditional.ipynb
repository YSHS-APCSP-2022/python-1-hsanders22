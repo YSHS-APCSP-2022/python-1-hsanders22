{
  "nbformat": 4,
  "nbformat_minor": 0,
  "metadata": {
    "colab": {
      "provenance": [],
      "include_colab_link": true
    },
    "kernelspec": {
      "name": "python3",
      "display_name": "Python 3"
    },
    "language_info": {
      "name": "python"
    }
  },
  "cells": [
    {
      "cell_type": "markdown",
      "metadata": {
        "id": "view-in-github",
        "colab_type": "text"
      },
      "source": [
        "<a href=\"https://colab.research.google.com/github/YSHS-APCSP-2022/python-1-hsanders22/blob/main/Return_Statement_and_Compound_Conditional.ipynb\" target=\"_parent\"><img src=\"https://colab.research.google.com/assets/colab-badge.svg\" alt=\"Open In Colab\"/></a>"
      ]
    },
    {
      "cell_type": "markdown",
      "source": [
        "#The Return statement\n",
        "A return within a function sends out (\"returns\") that value outside of that function. This is a great way to get functions to \"talk\" to other functions\n",
        "\n",
        "```python\n",
        "def sumTwoNumbers(a,b):\n",
        "  sum = a+b\n",
        "  return(sum)\n",
        "```\n",
        "The above function will send out the value of the value of sum that can then be saved by another variable and used within another function.\n",
        "```python\n",
        "def calculator():\n",
        "  num1 = int(input(\"type a number\"))\n",
        "  num2 = int(input(\"type a number\"))\n",
        "  total = sumTwoNumbers(num1,num2)\n",
        "  print(total)\n",
        "```\n",
        "Caculator calls the function sumTwoNumbers and then saves the returned value to total to output. Return statements allow one to use functions within functions."
      ],
      "metadata": {
        "id": "uYfmyDNJJ4Wc"
      }
    },
    {
      "cell_type": "code",
      "execution_count": null,
      "metadata": {
        "id": "XOqPHPjzJ0l7"
      },
      "outputs": [],
      "source": [
        "#Try it out! Modify the functions to get them to do something different!\n",
        "\n",
        "def sumTwoNumbers(a,b):\n",
        "  sum = a+b\n",
        "  return(sum)\n",
        "\n",
        "\n",
        "def calculator():\n",
        "  num1 = int(input(\"type a number\"))\n",
        "  num2 = int(input(\"type a number\"))\n",
        "  total = sumTwoNumbers(num1,num2)\n",
        "  print(total)"
      ]
    },
    {
      "cell_type": "code",
      "source": [
        "#running the function\n",
        "calculator()"
      ],
      "metadata": {
        "id": "hAJtgGi4J1UA",
        "outputId": "e42f0b99-8c31-4bba-a485-61d2bd3a4b25",
        "colab": {
          "base_uri": "https://localhost:8080/"
        }
      },
      "execution_count": null,
      "outputs": [
        {
          "output_type": "stream",
          "name": "stdout",
          "text": [
            "type a number10\n",
            "type a number10\n",
            "20\n"
          ]
        }
      ]
    },
    {
      "cell_type": "markdown",
      "source": [
        "##You can return strings too.\n",
        "1. Look at the 2 code cells below\n",
        "2. Run them\n",
        "3. Modify them to change their behavior\n"
      ],
      "metadata": {
        "id": "VjmVReEBLLbY"
      }
    },
    {
      "cell_type": "code",
      "source": [
        "import random\n",
        "def nameScrambler(name):\n",
        "  scrambled= random.sample(name, len(name))\n",
        "  #takes a list of scrambled letters and combines them together without any spaces\n",
        "  scrambled = ''.join(scrambled)\n",
        "  return(scrambled)\n",
        "\n",
        "\n",
        "def quest():\n",
        "  name = input(\"Hello traveler! What is your name: \")\n",
        "  scrambledName = nameScrambler(name)\n",
        "  print(\"In this universe your name is not \", name,\" it is \", scrambledName)\n",
        "\n"
      ],
      "metadata": {
        "id": "Nva4qen5OEAD"
      },
      "execution_count": null,
      "outputs": []
    },
    {
      "cell_type": "code",
      "source": [
        "quest()"
      ],
      "metadata": {
        "colab": {
          "base_uri": "https://localhost:8080/"
        },
        "id": "XY9aY-G-OnXP",
        "outputId": "9ad282f0-9c6b-4c05-d812-b1da0ee70196"
      },
      "execution_count": null,
      "outputs": [
        {
          "output_type": "stream",
          "name": "stdout",
          "text": [
            "Hello traveler! What is your name: peeboy\n",
            "In this universe your name is not  peeboy  it is  pyobee\n"
          ]
        }
      ]
    },
    {
      "cell_type": "markdown",
      "source": [
        "#You can return more than one variable\n",
        "1. Look at the 2 code cells below\n",
        "2. Run them\n",
        "3. Modify them to change their behavior\n"
      ],
      "metadata": {
        "id": "8lRys4XgkyxD"
      }
    },
    {
      "cell_type": "code",
      "source": [
        "def minMax(numList):\n",
        "  numList.sort()\n",
        "  #In a sorted list minimum is 0th index\n",
        "  min = numList[0]\n",
        "  #Max is last spot. The last spot of any list is the (length of the list - 1)\n",
        "  max = numList[len(numList)-1]\n",
        "  #returns two values\n",
        "  return(min,max)\n",
        "\n",
        "\n",
        "def stats(numList):\n",
        "  print(\"This function outputs several stats on your list of numbers!\")\n",
        "  min,max = minMax(numList)\n",
        "  print(\"Minimum is \", min)\n",
        "  print(\"Maximum is \", max)\n"
      ],
      "metadata": {
        "id": "imAZuKsMk_le"
      },
      "execution_count": null,
      "outputs": []
    },
    {
      "cell_type": "code",
      "source": [
        "numList = [4,6,40,9,10,100]\n",
        "stats(numList)"
      ],
      "metadata": {
        "colab": {
          "base_uri": "https://localhost:8080/"
        },
        "id": "nNCXPEUalp1t",
        "outputId": "358f5695-85cb-40d4-866a-0f12d2074c22"
      },
      "execution_count": null,
      "outputs": [
        {
          "output_type": "stream",
          "name": "stdout",
          "text": [
            "This function outputs several stats on your list of numbers!\n",
            "Minimum is  4\n",
            "Maximum is  100\n"
          ]
        }
      ]
    },
    {
      "cell_type": "markdown",
      "source": [
        "##Your Turn\n",
        "\n",
        "Create 2 functions\n",
        "1. One function called getInfo() that returns a players name and height in inches\n",
        "2. Second function called playGame() that welcomes the player and if they are over 72 inches in height allows them dunk the ball. Note that playGame() calls getInfo().\n"
      ],
      "metadata": {
        "id": "-mIZQ30LC-Cm"
      }
    },
    {
      "cell_type": "code",
      "source": [
        "def getinfo():\n",
        "  name=input(\"what is your name?\")\n",
        "  height=int(input(\"how tall are you in inches?\"))\n",
        "  return(name,height)\n",
        "\n",
        "\n",
        "def playgame():\n",
        "  name,height= getinfo()\n",
        "  if input(\"would you like to dunk\")==\"yes\"\n",
        "    if height>=72:\n",
        "      print(\"you dunk and it looks awesome\")\n",
        "    else:\n",
        "      print(\"you miss and fall\")"
      ],
      "metadata": {
        "id": "6eDjEv5AZm2b",
        "outputId": "f8e78b45-2f07-41f3-bc00-f1c0e9896234",
        "colab": {
          "base_uri": "https://localhost:8080/",
          "height": 133
        }
      },
      "execution_count": 50,
      "outputs": [
        {
          "output_type": "error",
          "ename": "SyntaxError",
          "evalue": "ignored",
          "traceback": [
            "\u001b[0;36m  File \u001b[0;32m\"<ipython-input-50-5b9f8517cfb5>\"\u001b[0;36m, line \u001b[0;32m9\u001b[0m\n\u001b[0;31m    if input(\"would you like to dunk\")==\"yes\"\u001b[0m\n\u001b[0m                                             ^\u001b[0m\n\u001b[0;31mSyntaxError\u001b[0m\u001b[0;31m:\u001b[0m invalid syntax\n"
          ]
        }
      ]
    },
    {
      "cell_type": "markdown",
      "source": [
        "##Compound Conditionals\n",
        "One can link conditional statements together using  and / or . For and both conditional statements must be true for the whole statement to be true. For or just one of the the conditions have to be true for the whole statement to be true. Evaluate the statements below to see them in action."
      ],
      "metadata": {
        "id": "UY7BrERZbk8d"
      }
    },
    {
      "cell_type": "code",
      "source": [
        "#Regular conditional statement\n",
        "x = 15\n",
        "y = 10\n",
        "\n",
        "if x > y:\n",
        "  print(\"Hello\")\n",
        "\n",
        "else:\n",
        "  print(\"Goodbye\")"
      ],
      "metadata": {
        "id": "pEmh5gzHcaUO"
      },
      "execution_count": null,
      "outputs": []
    },
    {
      "cell_type": "code",
      "source": [
        "#Compound Conditional Statement with and\n",
        "x = 15\n",
        "y = 10\n",
        "\n",
        "if x > y and y > 20:\n",
        "  print(\"Hello\")\n",
        "\n",
        "else:\n",
        "  print(\"Goodbye\")"
      ],
      "metadata": {
        "id": "ho5HDhqPcdbd"
      },
      "execution_count": null,
      "outputs": []
    },
    {
      "cell_type": "code",
      "source": [
        "#Compound Conditional Statement with or\n",
        "\n",
        "x = 15\n",
        "y = 10\n",
        "\n",
        "if x > y or y > 20:\n",
        "  print(\"Hello\")\n",
        "\n",
        "else:\n",
        "  print(\"Goodbye\")"
      ],
      "metadata": {
        "id": "AaeoaL6rcf2I"
      },
      "execution_count": null,
      "outputs": []
    },
    {
      "cell_type": "markdown",
      "source": [
        "#Make a function that includes.\n",
        "1. A function within the function that returns something\n",
        "2. A compound conditional statement with and\n",
        "3. A compound conditional statement with or."
      ],
      "metadata": {
        "id": "qTnJ7eEJcqc8"
      }
    },
    {
      "cell_type": "code",
      "source": [
        "#Your function here"
      ],
      "metadata": {
        "id": "33GWgEnidDbG"
      },
      "execution_count": null,
      "outputs": []
    }
  ]
}